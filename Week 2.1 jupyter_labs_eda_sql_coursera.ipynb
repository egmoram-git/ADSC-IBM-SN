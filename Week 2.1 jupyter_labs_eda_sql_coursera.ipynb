{
 "cells": [
  {
   "cell_type": "markdown",
   "metadata": {
    "id": "umO1W3c7F9oC"
   },
   "source": [
    "<p style=\"text-align:center\">\n",
    "    <a href=\"https://skills.network/?utm_medium=Exinfluencer&utm_source=Exinfluencer&utm_content=000026UJ&utm_term=10006555&utm_id=NA-SkillsNetwork-Channel-SkillsNetworkCoursesIBMDS0321ENSkillsNetwork26802033-2022-01-01\" target=\"_blank\">\n",
    "    <img src=\"https://cf-courses-data.s3.us.cloud-object-storage.appdomain.cloud/assets/logos/SN_web_lightmode.png\" width=\"200\" alt=\"Skills Network Logo\"  />\n",
    "    </a>\n",
    "</p>\n",
    "\n",
    "<h1 align=center><font size = 5>Assignment: SQL Notebook for Peer Assignment</font></h1>\n",
    "\n",
    "Estimated time needed: **60** minutes.\n",
    "\n",
    "## Introduction\n",
    "\n",
    "Using this Python notebook you will:\n",
    "\n",
    "1.  Understand the Spacex DataSet\n",
    "2.  Load the dataset  into the corresponding table in a Db2 database\n",
    "3.  Execute SQL queries to answer assignment questions\n"
   ]
  },
  {
   "cell_type": "markdown",
   "metadata": {
    "id": "oxBY6glUF9oJ"
   },
   "source": [
    "## Overview of the DataSet\n",
    "\n",
    "SpaceX has gained worldwide attention for a series of historic milestones.\n",
    "\n",
    "It is the only private company ever to return a spacecraft from low-earth orbit, which it first accomplished in December 2010.\n",
    "SpaceX advertises Falcon 9 rocket launches on its website with a cost of 62 million dollars wheras other providers cost upward of 165 million dollars each, much of the savings is because Space X can reuse the first stage.\n",
    "\n",
    "Therefore if we can determine if the first stage will land, we can determine the cost of a launch.\n",
    "\n",
    "This information can be used if an alternate company wants to bid against SpaceX for a rocket launch.\n",
    "\n",
    "This dataset includes a record for each payload carried during a SpaceX mission into outer space.\n"
   ]
  },
  {
   "cell_type": "markdown",
   "metadata": {
    "id": "Lamac0W_F9oK"
   },
   "source": [
    "### Download the datasets\n",
    "\n",
    "This assignment requires you to load the spacex dataset.\n",
    "\n",
    "In many cases the dataset to be analyzed is available as a .CSV (comma separated values) file, perhaps on the internet. Click on the link below to download and save the dataset (.CSV file):\n",
    "\n",
    "<a href=\"https://cf-courses-data.s3.us.cloud-object-storage.appdomain.cloud/IBM-DS0321EN-SkillsNetwork/labs/module_2/data/Spacex.csv?utm_medium=Exinfluencer&utm_source=Exinfluencer&utm_content=000026UJ&utm_term=10006555&utm_id=NA-SkillsNetwork-Channel-SkillsNetworkCoursesIBMDS0321ENSkillsNetwork26802033-2022-01-01\" target=\"_blank\">Spacex DataSet</a>\n"
   ]
  },
  {
   "cell_type": "markdown",
   "metadata": {
    "id": "WF9SwWjPF9oM"
   },
   "source": [
    "**Navigate to the Go to UI screen**\n",
    "\n",
    "*   Refer to this insruction in this <a href=\"https://cf-courses-data.s3.us.cloud-object-storage.appdomain.cloud/IBMDeveloperSkillsNetwork-DB0201EN-SkillsNetwork/labs/Labs_Coursera_V5/labs/Lab%20-%20Sign%20up%20for%20IBM%20Cloud%20-%20Create%20Db2%20service%20instance%20-%20Get%20started%20with%20the%20Db2%20console/instructional-labs.md.html?utm_medium=Exinfluencer&utm_source=Exinfluencer&utm_content=000026UJ&utm_term=10006555&utm_id=NA-SkillsNetwork-Channel-SkillsNetworkCoursesIBMDS0321ENSkillsNetwork26802033-2022-01-01\">link</a> for viewing  the   Go to UI screen.\n",
    "\n",
    "*   Later click on **Data link(below SQL)**  in the Go to UI screen  and click on **Load Data** tab.\n",
    "\n",
    "*   Later browse for the downloaded spacex file.\n",
    "\n",
    "<img src=\"https://cf-courses-data.s3.us.cloud-object-storage.appdomain.cloud/IBM-DS0321EN-SkillsNetwork/labs/module_2/images/browsefile.png\" width=\"800\"/>\n",
    "\n",
    "*   Once done select the schema andload the file.\n",
    "\n",
    " <img src=\"https://cf-courses-data.s3.us.cloud-object-storage.appdomain.cloud/IBM-DS0321EN-SkillsNetwork/labs/module_2/images/spacexload3.png\" width=\"800\"/>\n"
   ]
  },
  {
   "cell_type": "code",
   "execution_count": 1,
   "metadata": {
    "colab": {
     "base_uri": "https://localhost:8080/"
    },
    "id": "h-spf1d-F9oN",
    "outputId": "3cbbefd5-ae41-45f0-ba08-8aeb617e7652"
   },
   "outputs": [
    {
     "name": "stdout",
     "output_type": "stream",
     "text": [
      "Requirement already satisfied: sqlalchemy in c:\\users\\usuario\\anaconda3\\lib\\site-packages (1.3.9)\n",
      "Requirement already satisfied: ibm_db in c:\\users\\usuario\\anaconda3\\lib\\site-packages (3.1.1)\n",
      "Requirement already satisfied: ibm_db_sa in c:\\users\\usuario\\anaconda3\\lib\\site-packages (0.3.8)\n",
      "Requirement already satisfied: sqlalchemy>=0.7.3 in c:\\users\\usuario\\anaconda3\\lib\\site-packages (from ibm_db_sa) (1.3.9)\n",
      "Requirement already satisfied: ibm-db>=2.0.0 in c:\\users\\usuario\\anaconda3\\lib\\site-packages (from ibm_db_sa) (3.1.1)\n",
      "Requirement already satisfied: ipython-sql in c:\\users\\usuario\\anaconda3\\lib\\site-packages (0.4.1)\n",
      "Requirement already satisfied: ipython>=1.0 in c:\\users\\usuario\\anaconda3\\lib\\site-packages (from ipython-sql) (8.2.0)\n",
      "Requirement already satisfied: sqlparse in c:\\users\\usuario\\anaconda3\\lib\\site-packages (from ipython-sql) (0.4.3)\n",
      "Requirement already satisfied: six in c:\\users\\usuario\\anaconda3\\lib\\site-packages (from ipython-sql) (1.16.0)\n",
      "Requirement already satisfied: ipython-genutils>=0.1.0 in c:\\users\\usuario\\anaconda3\\lib\\site-packages (from ipython-sql) (0.2.0)\n",
      "Requirement already satisfied: sqlalchemy>=0.6.7 in c:\\users\\usuario\\anaconda3\\lib\\site-packages (from ipython-sql) (1.3.9)\n",
      "Requirement already satisfied: prettytable<1 in c:\\users\\usuario\\anaconda3\\lib\\site-packages (from ipython-sql) (0.7.2)\n",
      "Requirement already satisfied: colorama in c:\\users\\usuario\\anaconda3\\lib\\site-packages (from ipython>=1.0->ipython-sql) (0.4.4)\n",
      "Requirement already satisfied: pygments>=2.4.0 in c:\\users\\usuario\\anaconda3\\lib\\site-packages (from ipython>=1.0->ipython-sql) (2.11.2)\n",
      "Requirement already satisfied: decorator in c:\\users\\usuario\\anaconda3\\lib\\site-packages (from ipython>=1.0->ipython-sql) (5.1.1)\n",
      "Requirement already satisfied: pickleshare in c:\\users\\usuario\\anaconda3\\lib\\site-packages (from ipython>=1.0->ipython-sql) (0.7.5)\n",
      "Requirement already satisfied: stack-data in c:\\users\\usuario\\anaconda3\\lib\\site-packages (from ipython>=1.0->ipython-sql) (0.2.0)\n",
      "Requirement already satisfied: jedi>=0.16 in c:\\users\\usuario\\anaconda3\\lib\\site-packages (from ipython>=1.0->ipython-sql) (0.18.1)\n",
      "Requirement already satisfied: traitlets>=5 in c:\\users\\usuario\\anaconda3\\lib\\site-packages (from ipython>=1.0->ipython-sql) (5.1.1)\n",
      "Requirement already satisfied: prompt-toolkit!=3.0.0,!=3.0.1,<3.1.0,>=2.0.0 in c:\\users\\usuario\\anaconda3\\lib\\site-packages (from ipython>=1.0->ipython-sql) (3.0.20)\n",
      "Requirement already satisfied: setuptools>=18.5 in c:\\users\\usuario\\anaconda3\\lib\\site-packages (from ipython>=1.0->ipython-sql) (61.2.0)\n",
      "Requirement already satisfied: backcall in c:\\users\\usuario\\anaconda3\\lib\\site-packages (from ipython>=1.0->ipython-sql) (0.2.0)\n",
      "Requirement already satisfied: matplotlib-inline in c:\\users\\usuario\\anaconda3\\lib\\site-packages (from ipython>=1.0->ipython-sql) (0.1.2)\n",
      "Requirement already satisfied: parso<0.9.0,>=0.8.0 in c:\\users\\usuario\\anaconda3\\lib\\site-packages (from jedi>=0.16->ipython>=1.0->ipython-sql) (0.8.3)\n",
      "Requirement already satisfied: wcwidth in c:\\users\\usuario\\anaconda3\\lib\\site-packages (from prompt-toolkit!=3.0.0,!=3.0.1,<3.1.0,>=2.0.0->ipython>=1.0->ipython-sql) (0.2.5)\n",
      "Requirement already satisfied: pure-eval in c:\\users\\usuario\\anaconda3\\lib\\site-packages (from stack-data->ipython>=1.0->ipython-sql) (0.2.2)\n",
      "Requirement already satisfied: executing in c:\\users\\usuario\\anaconda3\\lib\\site-packages (from stack-data->ipython>=1.0->ipython-sql) (0.8.3)\n",
      "Requirement already satisfied: asttokens in c:\\users\\usuario\\anaconda3\\lib\\site-packages (from stack-data->ipython>=1.0->ipython-sql) (2.0.5)\n"
     ]
    }
   ],
   "source": [
    "!pip install sqlalchemy\n",
    "!pip install ibm_db\n",
    "!pip install ibm_db_sa\n",
    "!pip install ipython-sql"
   ]
  },
  {
   "cell_type": "markdown",
   "metadata": {
    "id": "bvdXAtv0F9oO"
   },
   "source": [
    "### Connect to the database\n",
    "\n",
    "Let us first load the SQL extension and establish a connection with the database\n"
   ]
  },
  {
   "cell_type": "code",
   "execution_count": 2,
   "metadata": {
    "colab": {
     "base_uri": "https://localhost:8080/"
    },
    "id": "XvgvCdKQF9oP",
    "outputId": "fc90cb16-9b9c-4134-ed60-77c3e6dc1acb"
   },
   "outputs": [],
   "source": [
    "%load_ext sql"
   ]
  },
  {
   "cell_type": "markdown",
   "metadata": {
    "id": "pVNKku_hF9oQ"
   },
   "source": [
    "**DB2 magic in case of old UI service credentials.**\n",
    "\n",
    "In the next cell enter your db2 connection string. Recall you created Service Credentials for your Db2 instance before. From the **uri** field of your Db2 service credentials copy everything after db2:// (except the double quote at the end) and paste it in the cell below after ibm_db_sa://\n",
    "\n",
    "<img src =\"https://cf-courses-data.s3.us.cloud-object-storage.appdomain.cloud/IBMDeveloperSkillsNetwork-DB0201EN-SkillsNetwork/labs/FinalModule_edX/images/URI.jpg\">\n",
    "\n",
    "in the following format\n",
    "\n",
    "**%sql ibm_db_sa://my-username:my-password\\@my-hostname:my-port/my-db-name**\n",
    "\n",
    "**DB2 magic in case of new UI service credentials.**\n",
    "\n",
    "<img src =\"https://cf-courses-data.s3.us.cloud-object-storage.appdomain.cloud/IBM-DS0321EN-SkillsNetwork/labs/module_2/images/servicecredentials.png\" width=600>  \n",
    "\n",
    "*   Use the following format.\n",
    "\n",
    "*   Add security=SSL at the end\n",
    "\n",
    "**%sql ibm_db_sa://my-username:my-password\\@my-hostname:my-port/my-db-name?security=SSL**\n"
   ]
  },
  {
   "cell_type": "code",
   "execution_count": 3,
   "metadata": {
    "colab": {
     "base_uri": "https://localhost:8080/"
    },
    "id": "pjO6aAwfF9oR",
    "outputId": "aa673b10-2586-4ad4-c0e2-077f9e862162"
   },
   "outputs": [],
   "source": [
    "%sql ibm_db_sa://ksh67833:wCnkegD94ZZIQaRo@54a2f15b-5c0f-46df-8954-7e38e612c2bd.c1ogj3sd0tgtu0lqde00.databases.appdomain.cloud:32733/bludb?security=SSL"
   ]
  },
  {
   "cell_type": "markdown",
   "metadata": {
    "id": "Hw-xih-zF9oS"
   },
   "source": [
    "## Tasks\n",
    "\n",
    "Now write and execute SQL queries to solve the assignment tasks.\n",
    "\n",
    "### Task 1\n",
    "\n",
    "##### Display the names of the unique launch sites  in the space mission\n"
   ]
  },
  {
   "cell_type": "code",
   "execution_count": 6,
   "metadata": {
    "colab": {
     "base_uri": "https://localhost:8080/"
    },
    "id": "hF6X-f_mF9oT",
    "outputId": "172a86ba-fe3a-4543-bbe2-46a894174760"
   },
   "outputs": [
    {
     "name": "stdout",
     "output_type": "stream",
     "text": [
      " * ibm_db_sa://ksh67833:***@54a2f15b-5c0f-46df-8954-7e38e612c2bd.c1ogj3sd0tgtu0lqde00.databases.appdomain.cloud:32733/bludb\n",
      "Done.\n"
     ]
    },
    {
     "data": {
      "text/html": [
       "<table>\n",
       "    <tr>\n",
       "        <th>launch_site</th>\n",
       "    </tr>\n",
       "    <tr>\n",
       "        <td>CCAFS LC-40</td>\n",
       "    </tr>\n",
       "    <tr>\n",
       "        <td>CCAFS SLC-40</td>\n",
       "    </tr>\n",
       "    <tr>\n",
       "        <td>KSC LC-39A</td>\n",
       "    </tr>\n",
       "    <tr>\n",
       "        <td>VAFB SLC-4E</td>\n",
       "    </tr>\n",
       "</table>"
      ],
      "text/plain": [
       "[('CCAFS LC-40',), ('CCAFS SLC-40',), ('KSC LC-39A',), ('VAFB SLC-4E',)]"
      ]
     },
     "execution_count": 6,
     "metadata": {},
     "output_type": "execute_result"
    }
   ],
   "source": [
    "%sql SELECT Launch_Site FROM SPACEX GROUP BY Launch_Site"
   ]
  },
  {
   "cell_type": "markdown",
   "metadata": {
    "id": "-6VY6Rk7F9oT"
   },
   "source": [
    "### Task 2\n",
    "\n",
    "##### Display 5 records where launch sites begin with the string 'CCA'\n"
   ]
  },
  {
   "cell_type": "code",
   "execution_count": 7,
   "metadata": {
    "id": "j-Xmm9VBF9oT"
   },
   "outputs": [
    {
     "name": "stdout",
     "output_type": "stream",
     "text": [
      " * ibm_db_sa://ksh67833:***@54a2f15b-5c0f-46df-8954-7e38e612c2bd.c1ogj3sd0tgtu0lqde00.databases.appdomain.cloud:32733/bludb\n",
      "Done.\n"
     ]
    },
    {
     "data": {
      "text/html": [
       "<table>\n",
       "    <tr>\n",
       "        <th>DATE</th>\n",
       "        <th>time__utc_</th>\n",
       "        <th>booster_version</th>\n",
       "        <th>launch_site</th>\n",
       "        <th>payload</th>\n",
       "        <th>payload_mass__kg_</th>\n",
       "        <th>orbit</th>\n",
       "        <th>customer</th>\n",
       "        <th>mission_outcome</th>\n",
       "        <th>landing__outcome</th>\n",
       "    </tr>\n",
       "    <tr>\n",
       "        <td>2010-06-04</td>\n",
       "        <td>18:45:00</td>\n",
       "        <td>F9 v1.0  B0003</td>\n",
       "        <td>CCAFS LC-40</td>\n",
       "        <td>Dragon Spacecraft Qualification Unit</td>\n",
       "        <td>0</td>\n",
       "        <td>LEO</td>\n",
       "        <td>SpaceX</td>\n",
       "        <td>Success</td>\n",
       "        <td>Failure (parachute)</td>\n",
       "    </tr>\n",
       "    <tr>\n",
       "        <td>2010-12-08</td>\n",
       "        <td>15:43:00</td>\n",
       "        <td>F9 v1.0  B0004</td>\n",
       "        <td>CCAFS LC-40</td>\n",
       "        <td>Dragon demo flight C1, two CubeSats, barrel of Brouere cheese</td>\n",
       "        <td>0</td>\n",
       "        <td>LEO (ISS)</td>\n",
       "        <td>NASA (COTS) NRO</td>\n",
       "        <td>Success</td>\n",
       "        <td>Failure (parachute)</td>\n",
       "    </tr>\n",
       "    <tr>\n",
       "        <td>2012-05-22</td>\n",
       "        <td>7:44:00</td>\n",
       "        <td>F9 v1.0  B0005</td>\n",
       "        <td>CCAFS LC-40</td>\n",
       "        <td>Dragon demo flight C2</td>\n",
       "        <td>525</td>\n",
       "        <td>LEO (ISS)</td>\n",
       "        <td>NASA (COTS)</td>\n",
       "        <td>Success</td>\n",
       "        <td>No attempt</td>\n",
       "    </tr>\n",
       "    <tr>\n",
       "        <td>2012-10-08</td>\n",
       "        <td>0:35:00</td>\n",
       "        <td>F9 v1.0  B0006</td>\n",
       "        <td>CCAFS LC-40</td>\n",
       "        <td>SpaceX CRS-1</td>\n",
       "        <td>500</td>\n",
       "        <td>LEO (ISS)</td>\n",
       "        <td>NASA (CRS)</td>\n",
       "        <td>Success</td>\n",
       "        <td>No attempt</td>\n",
       "    </tr>\n",
       "    <tr>\n",
       "        <td>2013-03-01</td>\n",
       "        <td>15:10:00</td>\n",
       "        <td>F9 v1.0  B0007</td>\n",
       "        <td>CCAFS LC-40</td>\n",
       "        <td>SpaceX CRS-2</td>\n",
       "        <td>677</td>\n",
       "        <td>LEO (ISS)</td>\n",
       "        <td>NASA (CRS)</td>\n",
       "        <td>Success</td>\n",
       "        <td>No attempt</td>\n",
       "    </tr>\n",
       "</table>"
      ],
      "text/plain": [
       "[(datetime.date(2010, 6, 4), '18:45:00', 'F9 v1.0  B0003', 'CCAFS LC-40', 'Dragon Spacecraft Qualification Unit', 0, 'LEO', 'SpaceX', 'Success', 'Failure (parachute)'),\n",
       " (datetime.date(2010, 12, 8), '15:43:00', 'F9 v1.0  B0004', 'CCAFS LC-40', 'Dragon demo flight C1, two CubeSats, barrel of Brouere cheese', 0, 'LEO (ISS)', 'NASA (COTS) NRO', 'Success', 'Failure (parachute)'),\n",
       " (datetime.date(2012, 5, 22), '7:44:00', 'F9 v1.0  B0005', 'CCAFS LC-40', 'Dragon demo flight C2', 525, 'LEO (ISS)', 'NASA (COTS)', 'Success', 'No attempt'),\n",
       " (datetime.date(2012, 10, 8), '0:35:00', 'F9 v1.0  B0006', 'CCAFS LC-40', 'SpaceX CRS-1', 500, 'LEO (ISS)', 'NASA (CRS)', 'Success', 'No attempt'),\n",
       " (datetime.date(2013, 3, 1), '15:10:00', 'F9 v1.0  B0007', 'CCAFS LC-40', 'SpaceX CRS-2', 677, 'LEO (ISS)', 'NASA (CRS)', 'Success', 'No attempt')]"
      ]
     },
     "execution_count": 7,
     "metadata": {},
     "output_type": "execute_result"
    }
   ],
   "source": [
    "%sql SELECT * FROM SPACEX WHERE Launch_Site LIKE '%CCA%' LIMIT 5"
   ]
  },
  {
   "cell_type": "markdown",
   "metadata": {
    "id": "dcTImWXKF9oU"
   },
   "source": [
    "### Task 3\n",
    "\n",
    "##### Display the total payload mass carried by boosters launched by NASA (CRS)\n"
   ]
  },
  {
   "cell_type": "code",
   "execution_count": 8,
   "metadata": {
    "id": "jxbC2tLrF9oU"
   },
   "outputs": [
    {
     "name": "stdout",
     "output_type": "stream",
     "text": [
      " * ibm_db_sa://ksh67833:***@54a2f15b-5c0f-46df-8954-7e38e612c2bd.c1ogj3sd0tgtu0lqde00.databases.appdomain.cloud:32733/bludb\n",
      "Done.\n"
     ]
    },
    {
     "data": {
      "text/html": [
       "<table>\n",
       "    <tr>\n",
       "        <th>1</th>\n",
       "    </tr>\n",
       "    <tr>\n",
       "        <td>45596</td>\n",
       "    </tr>\n",
       "</table>"
      ],
      "text/plain": [
       "[(45596,)]"
      ]
     },
     "execution_count": 8,
     "metadata": {},
     "output_type": "execute_result"
    }
   ],
   "source": [
    "%sql SELECT SUM(PAYLOAD_MASS__KG_) FROM SPACEX WHERE Customer LIKE 'NASA (CRS)'"
   ]
  },
  {
   "cell_type": "markdown",
   "metadata": {
    "id": "BiLoc-Y2F9oU"
   },
   "source": [
    "### Task 4\n",
    "\n",
    "##### Display average payload mass carried by booster version F9 v1.1\n"
   ]
  },
  {
   "cell_type": "code",
   "execution_count": 9,
   "metadata": {
    "id": "dBR8YneMF9oU"
   },
   "outputs": [
    {
     "name": "stdout",
     "output_type": "stream",
     "text": [
      " * ibm_db_sa://ksh67833:***@54a2f15b-5c0f-46df-8954-7e38e612c2bd.c1ogj3sd0tgtu0lqde00.databases.appdomain.cloud:32733/bludb\n",
      "Done.\n"
     ]
    },
    {
     "data": {
      "text/html": [
       "<table>\n",
       "    <tr>\n",
       "        <th>1</th>\n",
       "    </tr>\n",
       "    <tr>\n",
       "        <td>2928</td>\n",
       "    </tr>\n",
       "</table>"
      ],
      "text/plain": [
       "[(2928,)]"
      ]
     },
     "execution_count": 9,
     "metadata": {},
     "output_type": "execute_result"
    }
   ],
   "source": [
    "%sql SELECT AVG(PAYLOAD_MASS__KG_) FROM SPACEX WHERE Booster_Version LIKE 'F9 v1.1'"
   ]
  },
  {
   "cell_type": "markdown",
   "metadata": {
    "id": "0CdzfYLgF9oV"
   },
   "source": [
    "### Task 5\n",
    "\n",
    "##### List the date when the first successful landing outcome in ground pad was acheived.\n",
    "\n",
    "*Hint:Use min function*\n"
   ]
  },
  {
   "cell_type": "code",
   "execution_count": 10,
   "metadata": {
    "id": "hVvZQbmOF9oV"
   },
   "outputs": [
    {
     "name": "stdout",
     "output_type": "stream",
     "text": [
      " * ibm_db_sa://ksh67833:***@54a2f15b-5c0f-46df-8954-7e38e612c2bd.c1ogj3sd0tgtu0lqde00.databases.appdomain.cloud:32733/bludb\n",
      "Done.\n"
     ]
    },
    {
     "data": {
      "text/html": [
       "<table>\n",
       "    <tr>\n",
       "        <th>1</th>\n",
       "    </tr>\n",
       "    <tr>\n",
       "        <td>2015-12-22</td>\n",
       "    </tr>\n",
       "</table>"
      ],
      "text/plain": [
       "[(datetime.date(2015, 12, 22),)]"
      ]
     },
     "execution_count": 10,
     "metadata": {},
     "output_type": "execute_result"
    }
   ],
   "source": [
    "%sql SELECT min(DATE) FROM SPACEX WHERE Mission_outcome LIKE '%Success' AND Landing__Outcome LIKE '%ground pad%'"
   ]
  },
  {
   "cell_type": "markdown",
   "metadata": {
    "id": "5Bp2_zjFF9oV"
   },
   "source": [
    "### Task 6\n",
    "\n",
    "##### List the names of the boosters which have success in drone ship and have payload mass greater than 4000 but less than 6000\n"
   ]
  },
  {
   "cell_type": "code",
   "execution_count": 11,
   "metadata": {
    "id": "Lrjkox6lF9oW"
   },
   "outputs": [
    {
     "name": "stdout",
     "output_type": "stream",
     "text": [
      " * ibm_db_sa://ksh67833:***@54a2f15b-5c0f-46df-8954-7e38e612c2bd.c1ogj3sd0tgtu0lqde00.databases.appdomain.cloud:32733/bludb\n",
      "Done.\n"
     ]
    },
    {
     "data": {
      "text/html": [
       "<table>\n",
       "    <tr>\n",
       "        <th>booster_version</th>\n",
       "    </tr>\n",
       "    <tr>\n",
       "        <td>F9 FT B1022</td>\n",
       "    </tr>\n",
       "    <tr>\n",
       "        <td>F9 FT B1026</td>\n",
       "    </tr>\n",
       "    <tr>\n",
       "        <td>F9 FT  B1021.2</td>\n",
       "    </tr>\n",
       "    <tr>\n",
       "        <td>F9 FT  B1031.2</td>\n",
       "    </tr>\n",
       "</table>"
      ],
      "text/plain": [
       "[('F9 FT B1022',), ('F9 FT B1026',), ('F9 FT  B1021.2',), ('F9 FT  B1031.2',)]"
      ]
     },
     "execution_count": 11,
     "metadata": {},
     "output_type": "execute_result"
    }
   ],
   "source": [
    "%sql SELECT BOOSTER_VERSION FROM SPACEX WHERE Landing__Outcome LIKE '%Success (drone ship)%' AND PAYLOAD_MASS__KG_ > 4000 AND PAYLOAD_MASS__KG_ < 6000"
   ]
  },
  {
   "cell_type": "markdown",
   "metadata": {
    "id": "VaLa8HsKF9oW"
   },
   "source": [
    "### Task 7\n",
    "\n",
    "##### List the total number of successful and failure mission outcomes\n"
   ]
  },
  {
   "cell_type": "code",
   "execution_count": 22,
   "metadata": {
    "id": "LtXSIDceF9oW"
   },
   "outputs": [
    {
     "name": "stdout",
     "output_type": "stream",
     "text": [
      " * ibm_db_sa://ksh67833:***@54a2f15b-5c0f-46df-8954-7e38e612c2bd.c1ogj3sd0tgtu0lqde00.databases.appdomain.cloud:32733/bludb\n",
      "Done.\n"
     ]
    },
    {
     "data": {
      "text/html": [
       "<table>\n",
       "    <tr>\n",
       "        <th>failure</th>\n",
       "    </tr>\n",
       "    <tr>\n",
       "        <td>1</td>\n",
       "    </tr>\n",
       "</table>"
      ],
      "text/plain": [
       "[(1,)]"
      ]
     },
     "execution_count": 22,
     "metadata": {},
     "output_type": "execute_result"
    }
   ],
   "source": [
    "%sql SELECT COUNT(*) AS FAILURE FROM SPACEX WHERE MISSION_OUTCOME LIKE '%Failure%'"
   ]
  },
  {
   "cell_type": "code",
   "execution_count": 23,
   "metadata": {},
   "outputs": [
    {
     "name": "stdout",
     "output_type": "stream",
     "text": [
      " * ibm_db_sa://ksh67833:***@54a2f15b-5c0f-46df-8954-7e38e612c2bd.c1ogj3sd0tgtu0lqde00.databases.appdomain.cloud:32733/bludb\n",
      "Done.\n"
     ]
    },
    {
     "data": {
      "text/html": [
       "<table>\n",
       "    <tr>\n",
       "        <th>sucess</th>\n",
       "    </tr>\n",
       "    <tr>\n",
       "        <td>99</td>\n",
       "    </tr>\n",
       "</table>"
      ],
      "text/plain": [
       "[(99,)]"
      ]
     },
     "execution_count": 23,
     "metadata": {},
     "output_type": "execute_result"
    }
   ],
   "source": [
    "%sql SELECT COUNT(*) AS SUCESS FROM SPACEX WHERE MISSION_OUTCOME LIKE '%Success'"
   ]
  },
  {
   "cell_type": "markdown",
   "metadata": {
    "id": "po6Dg4rjF9oW"
   },
   "source": [
    "### Task 8\n",
    "\n",
    "##### List the   names of the booster_versions which have carried the maximum payload mass. Use a subquery\n"
   ]
  },
  {
   "cell_type": "code",
   "execution_count": 25,
   "metadata": {
    "id": "RKwEHrTjF9oW"
   },
   "outputs": [
    {
     "name": "stdout",
     "output_type": "stream",
     "text": [
      " * ibm_db_sa://ksh67833:***@54a2f15b-5c0f-46df-8954-7e38e612c2bd.c1ogj3sd0tgtu0lqde00.databases.appdomain.cloud:32733/bludb\n",
      "Done.\n"
     ]
    },
    {
     "data": {
      "text/html": [
       "<table>\n",
       "    <tr>\n",
       "        <th>booster_version</th>\n",
       "        <th>total_payload_mass</th>\n",
       "    </tr>\n",
       "    <tr>\n",
       "        <td>F9 B5 B1048.4</td>\n",
       "        <td>15600</td>\n",
       "    </tr>\n",
       "    <tr>\n",
       "        <td>F9 B5 B1048.5</td>\n",
       "        <td>15600</td>\n",
       "    </tr>\n",
       "    <tr>\n",
       "        <td>F9 B5 B1049.4</td>\n",
       "        <td>15600</td>\n",
       "    </tr>\n",
       "    <tr>\n",
       "        <td>F9 B5 B1049.5</td>\n",
       "        <td>15600</td>\n",
       "    </tr>\n",
       "    <tr>\n",
       "        <td>F9 B5 B1049.7</td>\n",
       "        <td>15600</td>\n",
       "    </tr>\n",
       "    <tr>\n",
       "        <td>F9 B5 B1051.3</td>\n",
       "        <td>15600</td>\n",
       "    </tr>\n",
       "    <tr>\n",
       "        <td>F9 B5 B1051.4</td>\n",
       "        <td>15600</td>\n",
       "    </tr>\n",
       "    <tr>\n",
       "        <td>F9 B5 B1051.6</td>\n",
       "        <td>15600</td>\n",
       "    </tr>\n",
       "    <tr>\n",
       "        <td>F9 B5 B1056.4</td>\n",
       "        <td>15600</td>\n",
       "    </tr>\n",
       "    <tr>\n",
       "        <td>F9 B5 B1058.3</td>\n",
       "        <td>15600</td>\n",
       "    </tr>\n",
       "    <tr>\n",
       "        <td>F9 B5 B1060.2</td>\n",
       "        <td>15600</td>\n",
       "    </tr>\n",
       "    <tr>\n",
       "        <td>F9 B5 B1060.3</td>\n",
       "        <td>15600</td>\n",
       "    </tr>\n",
       "    <tr>\n",
       "        <td>F9 B5 B1049.6</td>\n",
       "        <td>15440</td>\n",
       "    </tr>\n",
       "    <tr>\n",
       "        <td>F9 B5 B1059.3</td>\n",
       "        <td>15410</td>\n",
       "    </tr>\n",
       "    <tr>\n",
       "        <td>F9 B5 B1051.5</td>\n",
       "        <td>14932</td>\n",
       "    </tr>\n",
       "    <tr>\n",
       "        <td>F9 v1.1</td>\n",
       "        <td>14642</td>\n",
       "    </tr>\n",
       "    <tr>\n",
       "        <td>F9 B5 B1049.3</td>\n",
       "        <td>13620</td>\n",
       "    </tr>\n",
       "    <tr>\n",
       "        <td>F9 B5B1058.1</td>\n",
       "        <td>12530</td>\n",
       "    </tr>\n",
       "    <tr>\n",
       "        <td>F9 B5B1061.1</td>\n",
       "        <td>12500</td>\n",
       "    </tr>\n",
       "    <tr>\n",
       "        <td>F9 B5B1051.1</td>\n",
       "        <td>12055</td>\n",
       "    </tr>\n",
       "    <tr>\n",
       "        <td>F9 B5 B1046.4</td>\n",
       "        <td>12050</td>\n",
       "    </tr>\n",
       "    <tr>\n",
       "        <td>F9 B4  B1041.2</td>\n",
       "        <td>9600</td>\n",
       "    </tr>\n",
       "    <tr>\n",
       "        <td>F9 B4 B1041.1</td>\n",
       "        <td>9600</td>\n",
       "    </tr>\n",
       "    <tr>\n",
       "        <td>F9 B5 B1049.2</td>\n",
       "        <td>9600</td>\n",
       "    </tr>\n",
       "    <tr>\n",
       "        <td>F9 B5B1048.1</td>\n",
       "        <td>9600</td>\n",
       "    </tr>\n",
       "    <tr>\n",
       "        <td>F9 FT  B1036.2</td>\n",
       "        <td>9600</td>\n",
       "    </tr>\n",
       "    <tr>\n",
       "        <td>F9 FT B1029.1</td>\n",
       "        <td>9600</td>\n",
       "    </tr>\n",
       "    <tr>\n",
       "        <td>F9 FT B1036.1</td>\n",
       "        <td>9600</td>\n",
       "    </tr>\n",
       "    <tr>\n",
       "        <td>F9 B5B1047.1</td>\n",
       "        <td>7075</td>\n",
       "    </tr>\n",
       "    <tr>\n",
       "        <td>F9 B5B1049.1</td>\n",
       "        <td>7060</td>\n",
       "    </tr>\n",
       "    <tr>\n",
       "        <td>F9 B5 B1056.3</td>\n",
       "        <td>6956</td>\n",
       "    </tr>\n",
       "    <tr>\n",
       "        <td>F9 FT B1037</td>\n",
       "        <td>6761</td>\n",
       "    </tr>\n",
       "    <tr>\n",
       "        <td>F9 B5 B1047.3</td>\n",
       "        <td>6500</td>\n",
       "    </tr>\n",
       "    <tr>\n",
       "        <td>F9 B4  B1043.2</td>\n",
       "        <td>6460</td>\n",
       "    </tr>\n",
       "    <tr>\n",
       "        <td>F9 B4 B1044</td>\n",
       "        <td>6092</td>\n",
       "    </tr>\n",
       "    <tr>\n",
       "        <td>F9 FT B1034</td>\n",
       "        <td>6070</td>\n",
       "    </tr>\n",
       "    <tr>\n",
       "        <td>F9 B5 B1046.2</td>\n",
       "        <td>5800</td>\n",
       "    </tr>\n",
       "    <tr>\n",
       "        <td>F9 FT B1030</td>\n",
       "        <td>5600</td>\n",
       "    </tr>\n",
       "    <tr>\n",
       "        <td>F9 B5 B1058.2</td>\n",
       "        <td>5500</td>\n",
       "    </tr>\n",
       "    <tr>\n",
       "        <td>F9 B4  B1040.2</td>\n",
       "        <td>5384</td>\n",
       "    </tr>\n",
       "    <tr>\n",
       "        <td>F9 B5 B1047.2</td>\n",
       "        <td>5300</td>\n",
       "    </tr>\n",
       "    <tr>\n",
       "        <td>F9 FT  B1021.2</td>\n",
       "        <td>5300</td>\n",
       "    </tr>\n",
       "    <tr>\n",
       "        <td>F9 FT B1032.1</td>\n",
       "        <td>5300</td>\n",
       "    </tr>\n",
       "    <tr>\n",
       "        <td>F9 FT B1020</td>\n",
       "        <td>5271</td>\n",
       "    </tr>\n",
       "    <tr>\n",
       "        <td>F9 FT  B1031.2</td>\n",
       "        <td>5200</td>\n",
       "    </tr>\n",
       "    <tr>\n",
       "        <td>F9 B4 B1043.1</td>\n",
       "        <td>5000</td>\n",
       "    </tr>\n",
       "    <tr>\n",
       "        <td>F9 B4 B1040.1</td>\n",
       "        <td>4990</td>\n",
       "    </tr>\n",
       "    <tr>\n",
       "        <td>F9 B5 B1048.3</td>\n",
       "        <td>4850</td>\n",
       "    </tr>\n",
       "    <tr>\n",
       "        <td>F9 v1.1 B1016</td>\n",
       "        <td>4707</td>\n",
       "    </tr>\n",
       "    <tr>\n",
       "        <td>F9 FT B1022</td>\n",
       "        <td>4696</td>\n",
       "    </tr>\n",
       "    <tr>\n",
       "        <td>F9 FT B1026</td>\n",
       "        <td>4600</td>\n",
       "    </tr>\n",
       "    <tr>\n",
       "        <td>F9 v1.1 B1011</td>\n",
       "        <td>4428</td>\n",
       "    </tr>\n",
       "    <tr>\n",
       "        <td>F9 B5B1054</td>\n",
       "        <td>4400</td>\n",
       "    </tr>\n",
       "    <tr>\n",
       "        <td>F9 B5B1060.1</td>\n",
       "        <td>4311</td>\n",
       "    </tr>\n",
       "    <tr>\n",
       "        <td>F9 B5B1062.1</td>\n",
       "        <td>4311</td>\n",
       "    </tr>\n",
       "    <tr>\n",
       "        <td>F9 FT  B1032.2</td>\n",
       "        <td>4230</td>\n",
       "    </tr>\n",
       "    <tr>\n",
       "        <td>F9 B5 B1051.2</td>\n",
       "        <td>4200</td>\n",
       "    </tr>\n",
       "    <tr>\n",
       "        <td>F9 v1.1 B1014</td>\n",
       "        <td>4159</td>\n",
       "    </tr>\n",
       "    <tr>\n",
       "        <td>F9 B5 B1046.3</td>\n",
       "        <td>4000</td>\n",
       "    </tr>\n",
       "    <tr>\n",
       "        <td>F9 FT  B1029.2</td>\n",
       "        <td>3669</td>\n",
       "    </tr>\n",
       "    <tr>\n",
       "        <td>F9 B5  B1046.1</td>\n",
       "        <td>3600</td>\n",
       "    </tr>\n",
       "    <tr>\n",
       "        <td>F9 FT B1024</td>\n",
       "        <td>3600</td>\n",
       "    </tr>\n",
       "    <tr>\n",
       "        <td>F9 B4 B1042.1</td>\n",
       "        <td>3500</td>\n",
       "    </tr>\n",
       "    <tr>\n",
       "        <td>F9 B4 B1039.1</td>\n",
       "        <td>3310</td>\n",
       "    </tr>\n",
       "    <tr>\n",
       "        <td>F9 FT B1021.1</td>\n",
       "        <td>3136</td>\n",
       "    </tr>\n",
       "    <tr>\n",
       "        <td>F9 B5 B1059.4</td>\n",
       "        <td>3130</td>\n",
       "    </tr>\n",
       "    <tr>\n",
       "        <td>F9 FT B1023.1</td>\n",
       "        <td>3100</td>\n",
       "    </tr>\n",
       "    <tr>\n",
       "        <td>F9 B5 B1048.2</td>\n",
       "        <td>3000</td>\n",
       "    </tr>\n",
       "    <tr>\n",
       "        <td>F9 B5 B1058.4</td>\n",
       "        <td>2972</td>\n",
       "    </tr>\n",
       "    <tr>\n",
       "        <td>F9 FT B1035.1</td>\n",
       "        <td>2708</td>\n",
       "    </tr>\n",
       "    <tr>\n",
       "        <td>F9 B4 B1045.2</td>\n",
       "        <td>2697</td>\n",
       "    </tr>\n",
       "    <tr>\n",
       "        <td>F9 B4  B1039.2</td>\n",
       "        <td>2647</td>\n",
       "    </tr>\n",
       "    <tr>\n",
       "        <td>F9 B5B1059.1</td>\n",
       "        <td>2617</td>\n",
       "    </tr>\n",
       "    <tr>\n",
       "        <td>F9 B5B1050</td>\n",
       "        <td>2500</td>\n",
       "    </tr>\n",
       "    <tr>\n",
       "        <td>F9 B5B1056.1</td>\n",
       "        <td>2495</td>\n",
       "    </tr>\n",
       "    <tr>\n",
       "        <td>F9 FT B1031.1</td>\n",
       "        <td>2490</td>\n",
       "    </tr>\n",
       "    <tr>\n",
       "        <td>F9 v1.1 B1012</td>\n",
       "        <td>2395</td>\n",
       "    </tr>\n",
       "    <tr>\n",
       "        <td>F9 B5 B1056.2</td>\n",
       "        <td>2268</td>\n",
       "    </tr>\n",
       "    <tr>\n",
       "        <td>F9 FT B1025.1</td>\n",
       "        <td>2257</td>\n",
       "    </tr>\n",
       "    <tr>\n",
       "        <td>F9 v1.1 B1010</td>\n",
       "        <td>2216</td>\n",
       "    </tr>\n",
       "    <tr>\n",
       "        <td>F9 FT  B1035.2</td>\n",
       "        <td>2205</td>\n",
       "    </tr>\n",
       "    <tr>\n",
       "        <td>F9 FT  B1038.2</td>\n",
       "        <td>2150</td>\n",
       "    </tr>\n",
       "    <tr>\n",
       "        <td>F9 FT B1019</td>\n",
       "        <td>2034</td>\n",
       "    </tr>\n",
       "    <tr>\n",
       "        <td>F9 B5 B1059.2</td>\n",
       "        <td>1977</td>\n",
       "    </tr>\n",
       "    <tr>\n",
       "        <td>F9 v1.1 B1018</td>\n",
       "        <td>1952</td>\n",
       "    </tr>\n",
       "    <tr>\n",
       "        <td>F9 v1.1 B1015</td>\n",
       "        <td>1898</td>\n",
       "    </tr>\n",
       "    <tr>\n",
       "        <td>F9 B5B1063.1</td>\n",
       "        <td>1192</td>\n",
       "    </tr>\n",
       "    <tr>\n",
       "        <td>F9 v1.0  B0007</td>\n",
       "        <td>677</td>\n",
       "    </tr>\n",
       "    <tr>\n",
       "        <td>F9 v1.1 B1013</td>\n",
       "        <td>570</td>\n",
       "    </tr>\n",
       "    <tr>\n",
       "        <td>F9 v1.1 B1017</td>\n",
       "        <td>553</td>\n",
       "    </tr>\n",
       "    <tr>\n",
       "        <td>F9 v1.0  B0005</td>\n",
       "        <td>525</td>\n",
       "    </tr>\n",
       "    <tr>\n",
       "        <td>F9 v1.0  B0006</td>\n",
       "        <td>500</td>\n",
       "    </tr>\n",
       "    <tr>\n",
       "        <td>F9 v1.1  B1003</td>\n",
       "        <td>500</td>\n",
       "    </tr>\n",
       "    <tr>\n",
       "        <td>F9 FT B1038.1</td>\n",
       "        <td>475</td>\n",
       "    </tr>\n",
       "    <tr>\n",
       "        <td>F9 B4 B1045.1</td>\n",
       "        <td>362</td>\n",
       "    </tr>\n",
       "    <tr>\n",
       "        <td>F9 v1.0  B0003</td>\n",
       "        <td>0</td>\n",
       "    </tr>\n",
       "    <tr>\n",
       "        <td>F9 v1.0  B0004</td>\n",
       "        <td>0</td>\n",
       "    </tr>\n",
       "</table>"
      ],
      "text/plain": [
       "[('F9 B5 B1048.4', 15600),\n",
       " ('F9 B5 B1048.5', 15600),\n",
       " ('F9 B5 B1049.4', 15600),\n",
       " ('F9 B5 B1049.5', 15600),\n",
       " ('F9 B5 B1049.7', 15600),\n",
       " ('F9 B5 B1051.3', 15600),\n",
       " ('F9 B5 B1051.4', 15600),\n",
       " ('F9 B5 B1051.6', 15600),\n",
       " ('F9 B5 B1056.4', 15600),\n",
       " ('F9 B5 B1058.3', 15600),\n",
       " ('F9 B5 B1060.2', 15600),\n",
       " ('F9 B5 B1060.3', 15600),\n",
       " ('F9 B5 B1049.6', 15440),\n",
       " ('F9 B5 B1059.3', 15410),\n",
       " ('F9 B5 B1051.5', 14932),\n",
       " ('F9 v1.1', 14642),\n",
       " ('F9 B5 B1049.3', 13620),\n",
       " ('F9 B5B1058.1', 12530),\n",
       " ('F9 B5B1061.1', 12500),\n",
       " ('F9 B5B1051.1', 12055),\n",
       " ('F9 B5 B1046.4', 12050),\n",
       " ('F9 B4  B1041.2', 9600),\n",
       " ('F9 B4 B1041.1', 9600),\n",
       " ('F9 B5 B1049.2', 9600),\n",
       " ('F9 B5B1048.1', 9600),\n",
       " ('F9 FT  B1036.2', 9600),\n",
       " ('F9 FT B1029.1', 9600),\n",
       " ('F9 FT B1036.1', 9600),\n",
       " ('F9 B5B1047.1', 7075),\n",
       " ('F9 B5B1049.1', 7060),\n",
       " ('F9 B5 B1056.3', 6956),\n",
       " ('F9 FT B1037', 6761),\n",
       " ('F9 B5 B1047.3', 6500),\n",
       " ('F9 B4  B1043.2', 6460),\n",
       " ('F9 B4 B1044', 6092),\n",
       " ('F9 FT B1034', 6070),\n",
       " ('F9 B5 B1046.2', 5800),\n",
       " ('F9 FT B1030', 5600),\n",
       " ('F9 B5 B1058.2', 5500),\n",
       " ('F9 B4  B1040.2', 5384),\n",
       " ('F9 B5 B1047.2', 5300),\n",
       " ('F9 FT  B1021.2', 5300),\n",
       " ('F9 FT B1032.1', 5300),\n",
       " ('F9 FT B1020', 5271),\n",
       " ('F9 FT  B1031.2', 5200),\n",
       " ('F9 B4 B1043.1', 5000),\n",
       " ('F9 B4 B1040.1', 4990),\n",
       " ('F9 B5 B1048.3', 4850),\n",
       " ('F9 v1.1 B1016', 4707),\n",
       " ('F9 FT B1022', 4696),\n",
       " ('F9 FT B1026', 4600),\n",
       " ('F9 v1.1 B1011', 4428),\n",
       " ('F9 B5B1054', 4400),\n",
       " ('F9 B5B1060.1', 4311),\n",
       " ('F9 B5B1062.1', 4311),\n",
       " ('F9 FT  B1032.2', 4230),\n",
       " ('F9 B5 B1051.2', 4200),\n",
       " ('F9 v1.1 B1014', 4159),\n",
       " ('F9 B5 B1046.3', 4000),\n",
       " ('F9 FT  B1029.2', 3669),\n",
       " ('F9 B5  B1046.1', 3600),\n",
       " ('F9 FT B1024', 3600),\n",
       " ('F9 B4 B1042.1', 3500),\n",
       " ('F9 B4 B1039.1', 3310),\n",
       " ('F9 FT B1021.1', 3136),\n",
       " ('F9 B5 B1059.4', 3130),\n",
       " ('F9 FT B1023.1', 3100),\n",
       " ('F9 B5 B1048.2', 3000),\n",
       " ('F9 B5 B1058.4', 2972),\n",
       " ('F9 FT B1035.1', 2708),\n",
       " ('F9 B4 B1045.2', 2697),\n",
       " ('F9 B4  B1039.2', 2647),\n",
       " ('F9 B5B1059.1', 2617),\n",
       " ('F9 B5B1050', 2500),\n",
       " ('F9 B5B1056.1', 2495),\n",
       " ('F9 FT B1031.1', 2490),\n",
       " ('F9 v1.1 B1012', 2395),\n",
       " ('F9 B5 B1056.2', 2268),\n",
       " ('F9 FT B1025.1', 2257),\n",
       " ('F9 v1.1 B1010', 2216),\n",
       " ('F9 FT  B1035.2', 2205),\n",
       " ('F9 FT  B1038.2', 2150),\n",
       " ('F9 FT B1019', 2034),\n",
       " ('F9 B5 B1059.2', 1977),\n",
       " ('F9 v1.1 B1018', 1952),\n",
       " ('F9 v1.1 B1015', 1898),\n",
       " ('F9 B5B1063.1', 1192),\n",
       " ('F9 v1.0  B0007', 677),\n",
       " ('F9 v1.1 B1013', 570),\n",
       " ('F9 v1.1 B1017', 553),\n",
       " ('F9 v1.0  B0005', 525),\n",
       " ('F9 v1.0  B0006', 500),\n",
       " ('F9 v1.1  B1003', 500),\n",
       " ('F9 FT B1038.1', 475),\n",
       " ('F9 B4 B1045.1', 362),\n",
       " ('F9 v1.0  B0003', 0),\n",
       " ('F9 v1.0  B0004', 0)]"
      ]
     },
     "execution_count": 25,
     "metadata": {},
     "output_type": "execute_result"
    }
   ],
   "source": [
    "%sql SELECT BOOSTER_VERSION, SUM (PAYLOAD_MASS__KG_) AS TOTAL_PAYLOAD_MASS FROM SPACEX GROUP BY BOOSTER_VERSION ORDER BY TOTAL_PAYLOAD_MASS DESC"
   ]
  },
  {
   "cell_type": "markdown",
   "metadata": {
    "id": "ic6JOyv8F9oW"
   },
   "source": [
    "### Task 9\n",
    "\n",
    "##### List the failed landing_outcomes in drone ship, their booster versions, and launch site names for in year 2015\n"
   ]
  },
  {
   "cell_type": "code",
   "execution_count": 26,
   "metadata": {
    "id": "6CTv6t-4F9oX"
   },
   "outputs": [
    {
     "name": "stdout",
     "output_type": "stream",
     "text": [
      " * ibm_db_sa://ksh67833:***@54a2f15b-5c0f-46df-8954-7e38e612c2bd.c1ogj3sd0tgtu0lqde00.databases.appdomain.cloud:32733/bludb\n",
      "Done.\n"
     ]
    },
    {
     "data": {
      "text/html": [
       "<table>\n",
       "    <tr>\n",
       "        <th>DATE</th>\n",
       "        <th>booster_version</th>\n",
       "        <th>landing__outcome</th>\n",
       "        <th>launch_site</th>\n",
       "    </tr>\n",
       "    <tr>\n",
       "        <td>2015-01-10</td>\n",
       "        <td>F9 v1.1 B1012</td>\n",
       "        <td>Failure (drone ship)</td>\n",
       "        <td>CCAFS LC-40</td>\n",
       "    </tr>\n",
       "    <tr>\n",
       "        <td>2015-04-14</td>\n",
       "        <td>F9 v1.1 B1015</td>\n",
       "        <td>Failure (drone ship)</td>\n",
       "        <td>CCAFS LC-40</td>\n",
       "    </tr>\n",
       "</table>"
      ],
      "text/plain": [
       "[(datetime.date(2015, 1, 10), 'F9 v1.1 B1012', 'Failure (drone ship)', 'CCAFS LC-40'),\n",
       " (datetime.date(2015, 4, 14), 'F9 v1.1 B1015', 'Failure (drone ship)', 'CCAFS LC-40')]"
      ]
     },
     "execution_count": 26,
     "metadata": {},
     "output_type": "execute_result"
    }
   ],
   "source": [
    "%sql SELECT date, booster_version, Landing__Outcome, launch_site FROM SPACEX WHERE Landing__Outcome LIKE '%Failure (drone ship)%' AND Date like '%2015%'"
   ]
  },
  {
   "cell_type": "markdown",
   "metadata": {
    "id": "Ob0y7YaoF9oX"
   },
   "source": [
    "### Task 10\n",
    "\n",
    "##### Rank the count of landing outcomes (such as Failure (drone ship) or Success (ground pad)) between the date 2010-06-04 and 2017-03-20, in descending order\n"
   ]
  },
  {
   "cell_type": "code",
   "execution_count": 27,
   "metadata": {
    "id": "tOhH32TfF9oX"
   },
   "outputs": [
    {
     "name": "stdout",
     "output_type": "stream",
     "text": [
      " * ibm_db_sa://ksh67833:***@54a2f15b-5c0f-46df-8954-7e38e612c2bd.c1ogj3sd0tgtu0lqde00.databases.appdomain.cloud:32733/bludb\n",
      "Done.\n"
     ]
    },
    {
     "data": {
      "text/html": [
       "<table>\n",
       "    <tr>\n",
       "        <th>landing__outcome</th>\n",
       "        <th>total</th>\n",
       "    </tr>\n",
       "    <tr>\n",
       "        <td>Failure (drone ship)</td>\n",
       "        <td>5</td>\n",
       "    </tr>\n",
       "    <tr>\n",
       "        <td>Success (ground pad)</td>\n",
       "        <td>3</td>\n",
       "    </tr>\n",
       "</table>"
      ],
      "text/plain": [
       "[('Failure (drone ship)', 5), ('Success (ground pad)', 3)]"
      ]
     },
     "execution_count": 27,
     "metadata": {},
     "output_type": "execute_result"
    }
   ],
   "source": [
    "%sql SELECT Landing__Outcome, COUNT(Landing__Outcome) AS TOTAL FROM SPACEX WHERE Landing__Outcome LIKE '%Failure (drone ship)%' OR Landing__Outcome LIKE '%Success (ground pad)%' AND DATE BETWEEN '2010-06-04' AND '2017-03-20' GROUP BY Landing__Outcome"
   ]
  },
  {
   "cell_type": "markdown",
   "metadata": {
    "id": "9wyA5UWMF9oX"
   },
   "source": [
    "### Reference Links\n",
    "\n",
    "*   <a href =\"https://cf-courses-data.s3.us.cloud-object-storage.appdomain.cloud/IBMDeveloperSkillsNetwork-DB0201EN-SkillsNetwork/labs/Labs_Coursera_V5/labs/Lab%20-%20String%20Patterns%20-%20Sorting%20-%20Grouping/instructional-labs.md.html?utm_medium=Exinfluencer&utm_source=Exinfluencer&utm_content=000026UJ&utm_term=10006555&utm_id=NA-SkillsNetwork-Channel-SkillsNetworkCoursesIBMDS0321ENSkillsNetwork26802033-2022-01-01&origin=www.coursera.org\">Hands-on Lab : String Patterns, Sorting and Grouping</a>\n",
    "\n",
    "*   <a  href=\"https://cf-courses-data.s3.us.cloud-object-storage.appdomain.cloud/IBMDeveloperSkillsNetwork-DB0201EN-SkillsNetwork/labs/Labs_Coursera_V5/labs/Lab%20-%20Built-in%20functions%20/Hands-on_Lab__Built-in_Functions.md.html?utm_medium=Exinfluencer&utm_source=Exinfluencer&utm_content=000026UJ&utm_term=10006555&utm_id=NA-SkillsNetwork-Channel-SkillsNetworkCoursesIBMDS0321ENSkillsNetwork26802033-2022-01-01&origin=www.coursera.org\">Hands-on Lab: Built-in functions</a>\n",
    "\n",
    "*   <a  href=\"https://cf-courses-data.s3.us.cloud-object-storage.appdomain.cloud/IBMDeveloperSkillsNetwork-DB0201EN-SkillsNetwork/labs/Labs_Coursera_V5/labs/Lab%20-%20Sub-queries%20and%20Nested%20SELECTs%20/instructional-labs.md.html?utm_medium=Exinfluencer&utm_source=Exinfluencer&utm_content=000026UJ&utm_term=10006555&utm_id=NA-SkillsNetwork-Channel-SkillsNetworkCoursesIBMDS0321ENSkillsNetwork26802033-2022-01-01&origin=www.coursera.org\">Hands-on Lab : Sub-queries and Nested SELECT Statements</a>\n",
    "\n",
    "*   <a href=\"https://cf-courses-data.s3.us.cloud-object-storage.appdomain.cloud/IBMDeveloperSkillsNetwork-DB0201EN-SkillsNetwork/labs/Module%205/DB0201EN-Week3-1-3-SQLmagic.ipynb?utm_medium=Exinfluencer&utm_source=Exinfluencer&utm_content=000026UJ&utm_term=10006555&utm_id=NA-SkillsNetwork-Channel-SkillsNetworkCoursesIBMDS0321ENSkillsNetwork26802033-2022-01-01\">Hands-on Tutorial: Accessing Databases with SQL magic</a>\n",
    "\n",
    "*   <a href= \"https://cf-courses-data.s3.us.cloud-object-storage.appdomain.cloud/IBMDeveloperSkillsNetwork-DB0201EN-SkillsNetwork/labs/Module%205/DB0201EN-Week3-1-4-Analyzing.ipynb?utm_medium=Exinfluencer&utm_source=Exinfluencer&utm_content=000026UJ&utm_term=10006555&utm_id=NA-SkillsNetwork-Channel-SkillsNetworkCoursesIBMDS0321ENSkillsNetwork26802033-2022-01-01\">Hands-on Lab: Analyzing a real World Data Set</a>\n"
   ]
  },
  {
   "cell_type": "markdown",
   "metadata": {
    "id": "zfPxvDTZF9oX"
   },
   "source": [
    "## Author(s)\n",
    "\n",
    "<h4> Lakshmi Holla </h4>\n"
   ]
  },
  {
   "cell_type": "markdown",
   "metadata": {
    "id": "PF5oqUmHF9oY"
   },
   "source": [
    "## Other Contributors\n",
    "\n",
    "<h4> Rav Ahuja </h4>\n"
   ]
  },
  {
   "cell_type": "markdown",
   "metadata": {
    "id": "LdhG9ybEF9oY"
   },
   "source": [
    "## Change log\n",
    "\n",
    "| Date       | Version | Changed by    | Change Description        |\n",
    "| ---------- | ------- | ------------- | ------------------------- |\n",
    "| 2021-10-12 | 0.4     | Lakshmi Holla | Changed markdown          |\n",
    "| 2021-08-24 | 0.3     | Lakshmi Holla | Added library update      |\n",
    "| 2021-07-09 | 0.2     | Lakshmi Holla | Changes made in magic sql |\n",
    "| 2021-05-20 | 0.1     | Lakshmi Holla | Created Initial Version   |\n"
   ]
  },
  {
   "cell_type": "markdown",
   "metadata": {
    "id": "W39RxR4RF9oY"
   },
   "source": [
    "## <h3 align=\"center\"> © IBM Corporation 2021. All rights reserved. <h3/>\n"
   ]
  }
 ],
 "metadata": {
  "colab": {
   "collapsed_sections": [],
   "provenance": []
  },
  "kernelspec": {
   "display_name": "Python 3 (ipykernel)",
   "language": "python",
   "name": "python3"
  },
  "language_info": {
   "codemirror_mode": {
    "name": "ipython",
    "version": 3
   },
   "file_extension": ".py",
   "mimetype": "text/x-python",
   "name": "python",
   "nbconvert_exporter": "python",
   "pygments_lexer": "ipython3",
   "version": "3.9.12"
  }
 },
 "nbformat": 4,
 "nbformat_minor": 1
}
